{
  "cells": [
    {
      "cell_type": "markdown",
      "metadata": {
        "id": "wKxIRXrAwEaM"
      },
      "source": [
        "# Character-Level LSTM in PyTorch\n",
        "\n",
        "In this notebook, I'll construct a character-level LSTM with PyTorch. The network will train character by character on some text, then generate new text character by character. As an example, I will train on Anna Karenina. **This model will be able to generate new text based on the text from the book!**\n",
        "\n",
        "This network is based off of Andrej Karpathy's [post on RNNs](http://karpathy.github.io/2015/05/21/rnn-effectiveness/) and [implementation in Torch](https://github.com/karpathy/char-rnn). Below is the general architecture of the character-wise RNN.\n",
        "\n",
        "<img src=\"assets/charseq.jpeg\" width=\"500\">"
      ]
    },
    {
      "cell_type": "markdown",
      "metadata": {
        "id": "5UfKtDtiwEaS"
      },
      "source": [
        "First let's load in our required resources for data loading and model creation."
      ]
    },
    {
      "cell_type": "code",
      "execution_count": null,
      "metadata": {
        "collapsed": true,
        "id": "IahIGTWswEaT"
      },
      "outputs": [],
      "source": [
        "import numpy as np\n",
        "import torch\n",
        "from torch import nn\n",
        "import torch.nn.functional as F"
      ]
    },
    {
      "cell_type": "markdown",
      "metadata": {
        "id": "8b20Y7fawEaW"
      },
      "source": [
        "## Load in Data\n",
        "\n",
        "Then, we'll load the Anna Karenina text file and convert it into integers for our network to use."
      ]
    },
    {
      "cell_type": "code",
      "execution_count": null,
      "metadata": {
        "collapsed": true,
        "id": "ufZ-a50owEaX"
      },
      "outputs": [],
      "source": [
        "# open text file and read in data as `text`\n",
        "with open('data/anna.txt', 'r') as f:\n",
        "    text = f.read()"
      ]
    },
    {
      "cell_type": "markdown",
      "metadata": {
        "id": "OFHn31SjwEaY"
      },
      "source": [
        "Let's check out the first 100 characters, make sure everything is peachy. According to the [American Book Review](http://americanbookreview.org/100bestlines.asp), this is the 6th best first line of a book ever."
      ]
    },
    {
      "cell_type": "code",
      "execution_count": null,
      "metadata": {
        "colab": {
          "base_uri": "https://localhost:8080/",
          "height": 36
        },
        "id": "wIPQBxmLwEaZ",
        "outputId": "90ce2232-7577-4fad-ead0-489d5c16611b"
      },
      "outputs": [
        {
          "output_type": "execute_result",
          "data": {
            "text/plain": [
              "'Chapter 1\\n\\n\\nHappy families are all alike; every unhappy family is unhappy in its own\\nway.\\n\\nEverythin'"
            ],
            "application/vnd.google.colaboratory.intrinsic+json": {
              "type": "string"
            }
          },
          "metadata": {},
          "execution_count": 3
        }
      ],
      "source": [
        "text[:100]"
      ]
    },
    {
      "cell_type": "markdown",
      "metadata": {
        "id": "e1SDc_hMwEab"
      },
      "source": [
        "### Tokenization\n",
        "\n",
        "In the cells, below, I'm creating a couple **dictionaries** to convert the characters to and from integers. Encoding the characters as integers makes it easier to use as input in the network."
      ]
    },
    {
      "cell_type": "code",
      "execution_count": null,
      "metadata": {
        "collapsed": true,
        "id": "2zfpKpsswEac"
      },
      "outputs": [],
      "source": [
        "# encode the text and map each character to an integer and vice versa\n",
        "\n",
        "# we create two dictionaries:\n",
        "# 1. int2char, which maps integers to characters\n",
        "# 2. char2int, which maps characters to unique integers\n",
        "chars = tuple(set(text))\n",
        "int2char = dict(enumerate(chars))\n",
        "char2int = {ch: ii for ii, ch in int2char.items()}\n",
        "\n",
        "# encode the text\n",
        "encoded = np.array([char2int[ch] for ch in text])"
      ]
    },
    {
      "cell_type": "markdown",
      "metadata": {
        "id": "RsvgdzZXwEae"
      },
      "source": [
        "And we can see those same characters from above, encoded as integers."
      ]
    },
    {
      "cell_type": "code",
      "execution_count": null,
      "metadata": {
        "colab": {
          "base_uri": "https://localhost:8080/"
        },
        "id": "vSlRIEgjwEaf",
        "outputId": "24cc59e0-4aff-4ba5-acad-afffa73e26a3"
      },
      "outputs": [
        {
          "output_type": "execute_result",
          "data": {
            "text/plain": [
              "array([82,  9, 71, 60,  5, 19, 35, 53, 39, 11, 11, 11, 54, 71, 60, 60, 61,\n",
              "       53, 51, 71, 28, 43, 56, 43, 19, 55, 53, 71, 35, 19, 53, 71, 56, 56,\n",
              "       53, 71, 56, 43,  4, 19, 18, 53, 19, 48, 19, 35, 61, 53, 67,  6,  9,\n",
              "       71, 60, 60, 61, 53, 51, 71, 28, 43, 56, 61, 53, 43, 55, 53, 67,  6,\n",
              "        9, 71, 60, 60, 61, 53, 43,  6, 53, 43,  5, 55, 53, 27,  2,  6, 11,\n",
              "        2, 71, 61, 15, 11, 11, 81, 48, 19, 35, 61,  5,  9, 43,  6])"
            ]
          },
          "metadata": {},
          "execution_count": 5
        }
      ],
      "source": [
        "encoded[:100]"
      ]
    },
    {
      "cell_type": "markdown",
      "metadata": {
        "id": "g5DZMUuwwEaf"
      },
      "source": [
        "## Pre-processing the data\n",
        "\n",
        "As you can see in our char-RNN image above, our LSTM expects an input that is **one-hot encoded** meaning that each character is converted into an integer (via our created dictionary) and *then* converted into a column vector where only it's corresponding integer index will have the value of 1 and the rest of the vector will be filled with 0's. Since we're one-hot encoding the data, let's make a function to do that!\n"
      ]
    },
    {
      "cell_type": "code",
      "execution_count": null,
      "metadata": {
        "collapsed": true,
        "id": "PbG4QoeOwEag"
      },
      "outputs": [],
      "source": [
        "def one_hot_encode(arr, n_labels):\n",
        "\n",
        "    # Initialize the the encoded array\n",
        "    one_hot = np.zeros((np.multiply(*arr.shape), n_labels), dtype=np.float32)\n",
        "\n",
        "    # Fill the appropriate elements with ones\n",
        "    one_hot[np.arange(one_hot.shape[0]), arr.flatten()] = 1.\n",
        "\n",
        "    # Finally reshape it to get back to the original array\n",
        "    one_hot = one_hot.reshape((*arr.shape, n_labels))\n",
        "\n",
        "    return one_hot"
      ]
    },
    {
      "cell_type": "code",
      "execution_count": null,
      "metadata": {
        "colab": {
          "base_uri": "https://localhost:8080/"
        },
        "id": "10lyL1MUwEah",
        "outputId": "3f7a71b5-bbde-42bf-8170-2c5ca336bce7"
      },
      "outputs": [
        {
          "output_type": "stream",
          "name": "stdout",
          "text": [
            "[[[0. 0. 0. 1. 0. 0. 0. 0.]\n",
            "  [0. 0. 0. 0. 0. 1. 0. 0.]\n",
            "  [0. 1. 0. 0. 0. 0. 0. 0.]]]\n"
          ]
        }
      ],
      "source": [
        "# check that the function works as expected\n",
        "test_seq = np.array([[3, 5, 1]])\n",
        "one_hot = one_hot_encode(test_seq, 8)\n",
        "\n",
        "print(one_hot)"
      ]
    },
    {
      "cell_type": "markdown",
      "metadata": {
        "id": "3d-DRIQLwEah"
      },
      "source": [
        "## Making training mini-batches\n",
        "\n",
        "\n",
        "To train on this data, we also want to create mini-batches for training. Remember that we want our batches to be multiple sequences of some desired number of sequence steps. Considering a simple example, our batches would look like this:\n",
        "\n",
        "<img src=\"assets/sequence_batching@1x.png\" width=500px>\n",
        "\n",
        "\n",
        "<br>\n",
        "\n",
        "In this example, we'll take the encoded characters (passed in as the `arr` parameter) and split them into multiple sequences, given by `batch_size`. Each of our sequences will be `seq_length` long.\n",
        "\n",
        "### Creating Batches\n",
        "\n",
        "**1. The first thing we need to do is discard some of the text so we only have completely full mini-batches. **\n",
        "\n",
        "Each batch contains $N \\times M$ characters, where $N$ is the batch size (the number of sequences in a batch) and $M$ is the seq_length or number of time steps in a sequence. Then, to get the total number of batches, $K$, that we can make from the array `arr`, you divide the length of `arr` by the number of characters per batch. Once you know the number of batches, you can get the total number of characters to keep from `arr`, $N * M * K$.\n",
        "\n",
        "**2. After that, we need to split `arr` into $N$ batches. **\n",
        "\n",
        "You can do this using `arr.reshape(size)` where `size` is a tuple containing the dimensions sizes of the reshaped array. We know we want $N$ sequences in a batch, so let's make that the size of the first dimension. For the second dimension, you can use `-1` as a placeholder in the size, it'll fill up the array with the appropriate data for you. After this, you should have an array that is $N \\times (M * K)$.\n",
        "\n",
        "**3. Now that we have this array, we can iterate through it to get our mini-batches. **\n",
        "\n",
        "The idea is each batch is a $N \\times M$ window on the $N \\times (M * K)$ array. For each subsequent batch, the window moves over by `seq_length`. We also want to create both the input and target arrays. Remember that the targets are just the inputs shifted over by one character. The way I like to do this window is use `range` to take steps of size `n_steps` from $0$ to `arr.shape[1]`, the total number of tokens in each sequence. That way, the integers you get from `range` always point to the start of a batch, and each window is `seq_length` wide.\n",
        "\n",
        "> **TODO:** Write the code for creating batches in the function below. The exercises in this notebook _will not be easy_. I've provided a notebook with solutions alongside this notebook. If you get stuck, checkout the solutions. The most important thing is that you don't copy and paste the code into here, **type out the solution code yourself.**"
      ]
    },
    {
      "cell_type": "code",
      "execution_count": null,
      "metadata": {
        "collapsed": true,
        "id": "6npF2gJlwEai"
      },
      "outputs": [],
      "source": [
        "def get_batches(arr, batch_size, seq_length):\n",
        "    '''Create a generator that returns batches of size\n",
        "       batch_size x seq_length from arr.\n",
        "\n",
        "       Arguments\n",
        "       ---------\n",
        "       arr: Array you want to make batches from\n",
        "       batch_size: Batch size, the number of sequences per batch\n",
        "       seq_length: Number of encoded chars in a sequence\n",
        "    '''\n",
        "\n",
        "    ## TODO: Get the number of batches we can make\n",
        "    n_batches = len(arr) // (batch_size * seq_length)\n",
        "\n",
        "    ## TODO: Keep only enough characters to make full batches\n",
        "    arr = arr[:n_batches * (batch_size * seq_length)]\n",
        "\n",
        "    ## TODO: Reshape into batch_size rows\n",
        "    arr =  arr.reshape((batch_size, -1))\n",
        "\n",
        "    ## TODO: Iterate over the batches using a window of size seq_length\n",
        "    for n in range(0, arr.shape[1], seq_length):\n",
        "        # The features\n",
        "        x = arr[:, n:n+seq_length]\n",
        "        # The targets, shifted by one\n",
        "        y = np.zeros_like(x)\n",
        "        y[:, :-1], y[:, -1] = x[:, 1:], x[:, 0] if n + seq_length < arr.shape[1] else x[:, 0]\n",
        "        yield x, y"
      ]
    },
    {
      "cell_type": "markdown",
      "metadata": {
        "id": "QiAs1q0-wEaj"
      },
      "source": [
        "### Test Your Implementation\n",
        "\n",
        "Now I'll make some data sets and we can check out what's going on as we batch data. Here, as an example, I'm going to use a batch size of 8 and 50 sequence steps."
      ]
    },
    {
      "cell_type": "code",
      "execution_count": null,
      "metadata": {
        "collapsed": true,
        "id": "AIzcY0S4wEaj"
      },
      "outputs": [],
      "source": [
        "batches = get_batches(encoded, 8, 50)\n",
        "x, y = next(batches)"
      ]
    },
    {
      "cell_type": "code",
      "execution_count": null,
      "metadata": {
        "colab": {
          "base_uri": "https://localhost:8080/"
        },
        "id": "ZTDdo56RwEak",
        "outputId": "3cc74f47-1bb7-459e-9abe-d8673e61afa0"
      },
      "outputs": [
        {
          "output_type": "stream",
          "name": "stdout",
          "text": [
            "x\n",
            " [[82  9 71 60  5 19 35 53 39 11]\n",
            " [55 27  6 53  5  9 71  5 53 71]\n",
            " [19  6  8 53 27 35 53 71 53 51]\n",
            " [55 53  5  9 19 53  0  9 43 19]\n",
            " [53 55 71  2 53  9 19 35 53  5]\n",
            " [ 0 67 55 55 43 27  6 53 71  6]\n",
            " [53 63  6  6 71 53  9 71  8 53]\n",
            " [78 32 56 27  6 55  4 61 15 53]]\n",
            "\n",
            "y\n",
            " [[ 9 71 60  5 19 35 53 39 11 11]\n",
            " [27  6 53  5  9 71  5 53 71  5]\n",
            " [ 6  8 53 27 35 53 71 53 51 27]\n",
            " [53  5  9 19 53  0  9 43 19 51]\n",
            " [55 71  2 53  9 19 35 53  5 19]\n",
            " [67 55 55 43 27  6 53 71  6  8]\n",
            " [63  6  6 71 53  9 71  8 53 55]\n",
            " [32 56 27  6 55  4 61 15 53 70]]\n"
          ]
        }
      ],
      "source": [
        "# printing out the first 10 items in a sequence\n",
        "print('x\\n', x[:10, :10])\n",
        "print('\\ny\\n', y[:10, :10])"
      ]
    },
    {
      "cell_type": "markdown",
      "metadata": {
        "id": "bBm0MZQqwEal"
      },
      "source": [
        "If you implemented `get_batches` correctly, the above output should look something like\n",
        "```\n",
        "x\n",
        " [[25  8 60 11 45 27 28 73  1  2]\n",
        " [17  7 20 73 45  8 60 45 73 60]\n",
        " [27 20 80 73  7 28 73 60 73 65]\n",
        " [17 73 45  8 27 73 66  8 46 27]\n",
        " [73 17 60 12 73  8 27 28 73 45]\n",
        " [66 64 17 17 46  7 20 73 60 20]\n",
        " [73 76 20 20 60 73  8 60 80 73]\n",
        " [47 35 43  7 20 17 24 50 37 73]]\n",
        "\n",
        "y\n",
        " [[ 8 60 11 45 27 28 73  1  2  2]\n",
        " [ 7 20 73 45  8 60 45 73 60 45]\n",
        " [20 80 73  7 28 73 60 73 65  7]\n",
        " [73 45  8 27 73 66  8 46 27 65]\n",
        " [17 60 12 73  8 27 28 73 45 27]\n",
        " [64 17 17 46  7 20 73 60 20 80]\n",
        " [76 20 20 60 73  8 60 80 73 17]\n",
        " [35 43  7 20 17 24 50 37 73 36]]\n",
        " ```\n",
        " although the exact numbers may be different. Check to make sure the data is shifted over one step for `y`."
      ]
    },
    {
      "cell_type": "markdown",
      "metadata": {
        "id": "GWJCBdHlwEal"
      },
      "source": [
        "---\n",
        "## Defining the network with PyTorch\n",
        "\n",
        "Below is where you'll define the network.\n",
        "\n",
        "<img src=\"assets/charRNN.png\" width=500px>\n",
        "\n",
        "Next, you'll use PyTorch to define the architecture of the network. We start by defining the layers and operations we want. Then, define a method for the forward pass. You've also been given a method for predicting characters."
      ]
    },
    {
      "cell_type": "markdown",
      "metadata": {
        "id": "_J48eYTkwEam"
      },
      "source": [
        "### Model Structure\n",
        "\n",
        "In `__init__` the suggested structure is as follows:\n",
        "* Create and store the necessary dictionaries (this has been done for you)\n",
        "* Define an LSTM layer that takes as params: an input size (the number of characters), a hidden layer size `n_hidden`, a number of layers `n_layers`, a dropout probability `drop_prob`, and a batch_first boolean (True, since we are batching)\n",
        "* Define a dropout layer with `dropout_prob`\n",
        "* Define a fully-connected layer with params: input size `n_hidden` and output size (the number of characters)\n",
        "* Finally, initialize the weights (again, this has been given)\n",
        "\n",
        "Note that some parameters have been named and given in the `__init__` function, and we use them and store them by doing something like `self.drop_prob = drop_prob`."
      ]
    },
    {
      "cell_type": "markdown",
      "metadata": {
        "id": "5vcsUV54wEam"
      },
      "source": [
        "---\n",
        "### LSTM Inputs/Outputs\n",
        "\n",
        "You can create a basic [LSTM layer](https://pytorch.org/docs/stable/nn.html#lstm) as follows\n",
        "\n",
        "```python\n",
        "self.lstm = nn.LSTM(input_size, n_hidden, n_layers,\n",
        "                            dropout=drop_prob, batch_first=True)\n",
        "```\n",
        "\n",
        "where `input_size` is the number of characters this cell expects to see as sequential input, and `n_hidden` is the number of units in the hidden layers in the cell. And we can add dropout by adding a dropout parameter with a specified probability; this will automatically add dropout to the inputs or outputs. Finally, in the `forward` function, we can stack up the LSTM cells into layers using `.view`. With this, you pass in a list of cells and it will send the output of one cell into the next cell.\n",
        "\n",
        "We also need to create an initial hidden state of all zeros. This is done like so\n",
        "\n",
        "```python\n",
        "self.init_hidden()\n",
        "```"
      ]
    },
    {
      "cell_type": "code",
      "execution_count": null,
      "metadata": {
        "colab": {
          "base_uri": "https://localhost:8080/"
        },
        "id": "IH8NC2DiwEan",
        "outputId": "247f435a-44ed-4fa6-9101-7a6d3339adaf"
      },
      "outputs": [
        {
          "output_type": "stream",
          "name": "stdout",
          "text": [
            "No GPU available, training on CPU; consider making n_epochs very small.\n"
          ]
        }
      ],
      "source": [
        "# check if GPU is available\n",
        "train_on_gpu = torch.cuda.is_available()\n",
        "if(train_on_gpu):\n",
        "    print('Training on GPU!')\n",
        "else:\n",
        "    print('No GPU available, training on CPU; consider making n_epochs very small.')"
      ]
    },
    {
      "cell_type": "code",
      "execution_count": null,
      "metadata": {
        "collapsed": true,
        "id": "e8WSWy_vwEan"
      },
      "outputs": [],
      "source": [
        "class CharRNN(nn.Module):\n",
        "\n",
        "    def __init__(self, tokens, n_hidden=256, n_layers=2,\n",
        "                               drop_prob=0.5, lr=0.001):\n",
        "        super().__init__()\n",
        "        self.drop_prob = drop_prob\n",
        "        self.n_layers = n_layers\n",
        "        self.n_hidden = n_hidden\n",
        "        self.lr = lr\n",
        "\n",
        "        # creating character dictionaries\n",
        "        self.chars = tokens\n",
        "        self.int2char = dict(enumerate(self.chars))\n",
        "        self.char2int = {ch: ii for ii, ch in self.int2char.items()}\n",
        "\n",
        "        ## TODO: define the layers of the model\n",
        "        # LSTM layer\n",
        "        self.lstm = nn.LSTM(len(tokens), n_hidden, n_layers, dropout=drop_prob, batch_first=True)\n",
        "\n",
        "        # Dropout layer\n",
        "        self.dropout = nn.Dropout(drop_prob)\n",
        "\n",
        "        # Fully connected layer\n",
        "        self.fc = nn.Linear(n_hidden, len(tokens))\n",
        "\n",
        "    def forward(self, x, hidden):\n",
        "        ''' Forward pass through the network.\n",
        "            These inputs are x, and the hidden/cell state `hidden`. '''\n",
        "\n",
        "        ## TODO: Get the outputs and the new hidden state from the lstm\n",
        "         # Get the outputs and the new hidden state from the lstm\n",
        "        r_output, hidden = self.lstm(x, hidden)\n",
        "\n",
        "        # Pass through a dropout layer\n",
        "        out = self.dropout(r_output)\n",
        "\n",
        "        # Stack up LSTM outputs using view\n",
        "        out = out.contiguous().view(-1, self.n_hidden)\n",
        "\n",
        "        # Put x through the fully-connected layer\n",
        "        out = self.fc(out)\n",
        "\n",
        "        # return the final output and the hidden state\n",
        "        return out, hidden\n",
        "\n",
        "\n",
        "    def init_hidden(self, batch_size):\n",
        "        ''' Initializes hidden state '''\n",
        "        # Create two new tensors with sizes n_layers x batch_size x n_hidden,\n",
        "        # initialized to zero, for hidden state and cell state of LSTM\n",
        "        weight = next(self.parameters()).data\n",
        "\n",
        "        if (train_on_gpu):\n",
        "            hidden = (weight.new(self.n_layers, batch_size, self.n_hidden).zero_().cuda(),\n",
        "                  weight.new(self.n_layers, batch_size, self.n_hidden).zero_().cuda())\n",
        "        else:\n",
        "            hidden = (weight.new(self.n_layers, batch_size, self.n_hidden).zero_(),\n",
        "                      weight.new(self.n_layers, batch_size, self.n_hidden).zero_())\n",
        "\n",
        "        return hidden\n"
      ]
    },
    {
      "cell_type": "markdown",
      "metadata": {
        "id": "rl6nY2_dwEao"
      },
      "source": [
        "## Time to train\n",
        "\n",
        "The train function gives us the ability to set the number of epochs, the learning rate, and other parameters.\n",
        "\n",
        "Below we're using an Adam optimizer and cross entropy loss since we are looking at character class scores as output. We calculate the loss and perform backpropagation, as usual!\n",
        "\n",
        "A couple of details about training:\n",
        ">* Within the batch loop, we detach the hidden state from its history; this time setting it equal to a new *tuple* variable because an LSTM has a hidden state that is a tuple of the hidden and cell states.\n",
        "* We use [`clip_grad_norm_`](https://pytorch.org/docs/stable/_modules/torch/nn/utils/clip_grad.html) to help prevent exploding gradients."
      ]
    },
    {
      "cell_type": "code",
      "execution_count": null,
      "metadata": {
        "collapsed": true,
        "id": "0kWWepdMwEap"
      },
      "outputs": [],
      "source": [
        "def train(net, data, epochs=10, batch_size=10, seq_length=50, lr=0.001, clip=5, val_frac=0.1, print_every=10):\n",
        "    ''' Training a network\n",
        "\n",
        "        Arguments\n",
        "        ---------\n",
        "\n",
        "        net: CharRNN network\n",
        "        data: text data to train the network\n",
        "        epochs: Number of epochs to train\n",
        "        batch_size: Number of mini-sequences per mini-batch, aka batch size\n",
        "        seq_length: Number of character steps per mini-batch\n",
        "        lr: learning rate\n",
        "        clip: gradient clipping\n",
        "        val_frac: Fraction of data to hold out for validation\n",
        "        print_every: Number of steps for printing training and validation loss\n",
        "\n",
        "    '''\n",
        "    net.train()\n",
        "\n",
        "    opt = torch.optim.Adam(net.parameters(), lr=lr)\n",
        "    criterion = nn.CrossEntropyLoss()\n",
        "\n",
        "    # create training and validation data\n",
        "    val_idx = int(len(data)*(1-val_frac))\n",
        "    data, val_data = data[:val_idx], data[val_idx:]\n",
        "\n",
        "    if(train_on_gpu):\n",
        "        net.cuda()\n",
        "\n",
        "    counter = 0\n",
        "    n_chars = len(net.chars)\n",
        "    for e in range(epochs):\n",
        "        # initialize hidden state\n",
        "        h = net.init_hidden(batch_size)\n",
        "\n",
        "        for x, y in get_batches(data, batch_size, seq_length):\n",
        "            counter += 1\n",
        "\n",
        "            # One-hot encode our data and make them Torch tensors\n",
        "            x = one_hot_encode(x, n_chars)\n",
        "            inputs, targets = torch.from_numpy(x), torch.from_numpy(y)\n",
        "\n",
        "            if(train_on_gpu):\n",
        "                inputs, targets = inputs.cuda(), targets.cuda()\n",
        "\n",
        "            # Creating new variables for the hidden state, otherwise\n",
        "            # we'd backprop through the entire training history\n",
        "            h = tuple([each.data for each in h])\n",
        "\n",
        "            # zero accumulated gradients\n",
        "            net.zero_grad()\n",
        "\n",
        "            # get the output from the model\n",
        "            output, h = net(inputs, h)\n",
        "\n",
        "            # calculate the loss and perform backprop\n",
        "            loss = criterion(output, targets.view(batch_size*seq_length))\n",
        "            loss.backward()\n",
        "            # `clip_grad_norm` helps prevent the exploding gradient problem in RNNs / LSTMs.\n",
        "            nn.utils.clip_grad_norm_(net.parameters(), clip)\n",
        "            opt.step()\n",
        "\n",
        "            # loss stats\n",
        "            if counter % print_every == 0:\n",
        "                # Get validation loss\n",
        "                val_h = net.init_hidden(batch_size)\n",
        "                val_losses = []\n",
        "                net.eval()\n",
        "                for x, y in get_batches(val_data, batch_size, seq_length):\n",
        "                    # One-hot encode our data and make them Torch tensors\n",
        "                    x = one_hot_encode(x, n_chars)\n",
        "                    x, y = torch.from_numpy(x), torch.from_numpy(y)\n",
        "\n",
        "                    # Creating new variables for the hidden state, otherwise\n",
        "                    # we'd backprop through the entire training history\n",
        "                    val_h = tuple([each.data for each in val_h])\n",
        "\n",
        "                    inputs, targets = x, y\n",
        "                    if(train_on_gpu):\n",
        "                        inputs, targets = inputs.cuda(), targets.cuda()\n",
        "\n",
        "                    output, val_h = net(inputs, val_h)\n",
        "                    val_loss = criterion(output, targets.view(batch_size*seq_length))\n",
        "\n",
        "                    val_losses.append(val_loss.item())\n",
        "\n",
        "                net.train() # reset to train mode after iterationg through validation data\n",
        "\n",
        "                print(\"Epoch: {}/{}...\".format(e+1, epochs),\n",
        "                      \"Step: {}...\".format(counter),\n",
        "                      \"Loss: {:.4f}...\".format(loss.item()),\n",
        "                      \"Val Loss: {:.4f}\".format(np.mean(val_losses)))"
      ]
    },
    {
      "cell_type": "markdown",
      "metadata": {
        "id": "bTR49q4ywEar"
      },
      "source": [
        "## Instantiating the model\n",
        "\n",
        "Now we can actually train the network. First we'll create the network itself, with some given hyperparameters. Then, define the mini-batches sizes, and start training!"
      ]
    },
    {
      "cell_type": "code",
      "execution_count": null,
      "metadata": {
        "colab": {
          "base_uri": "https://localhost:8080/"
        },
        "id": "4aisVDjnwEas",
        "outputId": "83cee207-d7e1-44a0-d01e-9bca5efddea3"
      },
      "outputs": [
        {
          "output_type": "stream",
          "name": "stdout",
          "text": [
            "CharRNN(\n",
            "  (lstm): LSTM(83, 512, num_layers=2, batch_first=True, dropout=0.5)\n",
            "  (dropout): Dropout(p=0.5, inplace=False)\n",
            "  (fc): Linear(in_features=512, out_features=83, bias=True)\n",
            ")\n"
          ]
        }
      ],
      "source": [
        "## TODO: set you model hyperparameters\n",
        "# define and print the net\n",
        "n_hidden= 512\n",
        "n_layers= 2\n",
        "\n",
        "net = CharRNN(chars, n_hidden, n_layers)\n",
        "print(net)\n"
      ]
    },
    {
      "cell_type": "markdown",
      "metadata": {
        "id": "isUOPcwAwEas"
      },
      "source": [
        "### Set your training hyperparameters!"
      ]
    },
    {
      "cell_type": "code",
      "execution_count": null,
      "metadata": {
        "scrolled": true,
        "colab": {
          "base_uri": "https://localhost:8080/"
        },
        "id": "-KVQC8ZBwEat",
        "outputId": "3a563672-d8b8-4d8a-f39e-31f8fdbb580b"
      },
      "outputs": [
        {
          "output_type": "stream",
          "name": "stdout",
          "text": [
            "Epoch: 1/5... Step: 10... Loss: 3.2518... Val Loss: 3.2241\n",
            "Epoch: 1/5... Step: 20... Loss: 3.1583... Val Loss: 3.1437\n",
            "Epoch: 1/5... Step: 30... Loss: 3.1457... Val Loss: 3.1305\n",
            "Epoch: 1/5... Step: 40... Loss: 3.1378... Val Loss: 3.1257\n",
            "Epoch: 1/5... Step: 50... Loss: 3.1259... Val Loss: 3.1249\n",
            "Epoch: 1/5... Step: 60... Loss: 3.1394... Val Loss: 3.1236\n",
            "Epoch: 1/5... Step: 70... Loss: 3.1302... Val Loss: 3.1222\n",
            "Epoch: 1/5... Step: 80... Loss: 3.1268... Val Loss: 3.1194\n",
            "Epoch: 1/5... Step: 90... Loss: 3.1031... Val Loss: 3.1097\n",
            "Epoch: 1/5... Step: 100... Loss: 3.1023... Val Loss: 3.0909\n",
            "Epoch: 1/5... Step: 110... Loss: 3.0499... Val Loss: 3.0521\n",
            "Epoch: 1/5... Step: 120... Loss: 2.9793... Val Loss: 2.9521\n",
            "Epoch: 1/5... Step: 130... Loss: 2.9075... Val Loss: 2.8761\n",
            "Epoch: 1/5... Step: 140... Loss: 2.7418... Val Loss: 2.7314\n",
            "Epoch: 1/5... Step: 150... Loss: 2.6522... Val Loss: 2.6347\n",
            "Epoch: 1/5... Step: 160... Loss: 2.5734... Val Loss: 2.5718\n",
            "Epoch: 1/5... Step: 170... Loss: 2.5585... Val Loss: 2.5289\n",
            "Epoch: 1/5... Step: 180... Loss: 2.4897... Val Loss: 2.4937\n",
            "Epoch: 1/5... Step: 190... Loss: 2.4821... Val Loss: 2.4667\n",
            "Epoch: 1/5... Step: 200... Loss: 2.4823... Val Loss: 2.4370\n",
            "Epoch: 1/5... Step: 210... Loss: 2.3969... Val Loss: 2.4102\n",
            "Epoch: 1/5... Step: 220... Loss: 2.4294... Val Loss: 2.3895\n",
            "Epoch: 1/5... Step: 230... Loss: 2.3659... Val Loss: 2.3625\n",
            "Epoch: 1/5... Step: 240... Loss: 2.3254... Val Loss: 2.3484\n",
            "Epoch: 1/5... Step: 250... Loss: 2.3094... Val Loss: 2.3188\n",
            "Epoch: 1/5... Step: 260... Loss: 2.3059... Val Loss: 2.3014\n",
            "Epoch: 1/5... Step: 270... Loss: 2.2503... Val Loss: 2.2743\n",
            "Epoch: 2/5... Step: 280... Loss: 2.3085... Val Loss: 2.2570\n",
            "Epoch: 2/5... Step: 290... Loss: 2.2443... Val Loss: 2.2340\n",
            "Epoch: 2/5... Step: 300... Loss: 2.2408... Val Loss: 2.2174\n",
            "Epoch: 2/5... Step: 310... Loss: 2.2173... Val Loss: 2.2032\n",
            "Epoch: 2/5... Step: 320... Loss: 2.1685... Val Loss: 2.1876\n",
            "Epoch: 2/5... Step: 330... Loss: 2.1861... Val Loss: 2.1675\n",
            "Epoch: 2/5... Step: 340... Loss: 2.1420... Val Loss: 2.1634\n",
            "Epoch: 2/5... Step: 350... Loss: 2.1515... Val Loss: 2.1389\n",
            "Epoch: 2/5... Step: 360... Loss: 2.1439... Val Loss: 2.1228\n",
            "Epoch: 2/5... Step: 370... Loss: 2.1401... Val Loss: 2.1114\n",
            "Epoch: 2/5... Step: 380... Loss: 2.0845... Val Loss: 2.0925\n",
            "Epoch: 2/5... Step: 390... Loss: 2.0720... Val Loss: 2.0856\n",
            "Epoch: 2/5... Step: 400... Loss: 2.0469... Val Loss: 2.0632\n",
            "Epoch: 2/5... Step: 410... Loss: 2.0683... Val Loss: 2.0511\n",
            "Epoch: 2/5... Step: 420... Loss: 2.0197... Val Loss: 2.0391\n",
            "Epoch: 2/5... Step: 430... Loss: 2.0149... Val Loss: 2.0300\n",
            "Epoch: 2/5... Step: 440... Loss: 1.9925... Val Loss: 2.0214\n",
            "Epoch: 2/5... Step: 450... Loss: 2.0248... Val Loss: 2.0078\n",
            "Epoch: 2/5... Step: 460... Loss: 1.9930... Val Loss: 1.9947\n",
            "Epoch: 2/5... Step: 470... Loss: 2.0118... Val Loss: 1.9871\n",
            "Epoch: 2/5... Step: 480... Loss: 1.9928... Val Loss: 1.9714\n",
            "Epoch: 2/5... Step: 490... Loss: 1.9411... Val Loss: 1.9580\n",
            "Epoch: 2/5... Step: 500... Loss: 1.9540... Val Loss: 1.9524\n",
            "Epoch: 2/5... Step: 510... Loss: 1.9416... Val Loss: 1.9381\n",
            "Epoch: 2/5... Step: 520... Loss: 1.9412... Val Loss: 1.9286\n",
            "Epoch: 2/5... Step: 530... Loss: 1.9197... Val Loss: 1.9187\n",
            "Epoch: 2/5... Step: 540... Loss: 1.9155... Val Loss: 1.9071\n",
            "Epoch: 2/5... Step: 550... Loss: 1.9471... Val Loss: 1.8983\n",
            "Epoch: 3/5... Step: 560... Loss: 1.8761... Val Loss: 1.8848\n",
            "Epoch: 3/5... Step: 570... Loss: 1.8626... Val Loss: 1.8809\n",
            "Epoch: 3/5... Step: 580... Loss: 1.8890... Val Loss: 1.8719\n",
            "Epoch: 3/5... Step: 590... Loss: 1.8202... Val Loss: 1.8619\n",
            "Epoch: 3/5... Step: 600... Loss: 1.8732... Val Loss: 1.8551\n",
            "Epoch: 3/5... Step: 610... Loss: 1.8821... Val Loss: 1.8433\n",
            "Epoch: 3/5... Step: 620... Loss: 1.8156... Val Loss: 1.8388\n",
            "Epoch: 3/5... Step: 630... Loss: 1.8346... Val Loss: 1.8271\n",
            "Epoch: 3/5... Step: 640... Loss: 1.7902... Val Loss: 1.8207\n",
            "Epoch: 3/5... Step: 650... Loss: 1.8033... Val Loss: 1.8165\n",
            "Epoch: 3/5... Step: 660... Loss: 1.7831... Val Loss: 1.8068\n",
            "Epoch: 3/5... Step: 670... Loss: 1.7978... Val Loss: 1.7984\n",
            "Epoch: 3/5... Step: 680... Loss: 1.7589... Val Loss: 1.7953\n",
            "Epoch: 3/5... Step: 690... Loss: 1.8042... Val Loss: 1.7829\n",
            "Epoch: 3/5... Step: 700... Loss: 1.7975... Val Loss: 1.7797\n",
            "Epoch: 3/5... Step: 710... Loss: 1.7973... Val Loss: 1.7724\n",
            "Epoch: 3/5... Step: 720... Loss: 1.7674... Val Loss: 1.7716\n",
            "Epoch: 3/5... Step: 730... Loss: 1.7576... Val Loss: 1.7630\n",
            "Epoch: 3/5... Step: 740... Loss: 1.8248... Val Loss: 1.7542\n",
            "Epoch: 3/5... Step: 750... Loss: 1.7229... Val Loss: 1.7545\n",
            "Epoch: 3/5... Step: 760... Loss: 1.7469... Val Loss: 1.7482\n",
            "Epoch: 3/5... Step: 770... Loss: 1.7387... Val Loss: 1.7469\n",
            "Epoch: 3/5... Step: 780... Loss: 1.7303... Val Loss: 1.7376\n",
            "Epoch: 3/5... Step: 790... Loss: 1.7652... Val Loss: 1.7305\n",
            "Epoch: 3/5... Step: 800... Loss: 1.7100... Val Loss: 1.7267\n",
            "Epoch: 3/5... Step: 810... Loss: 1.7017... Val Loss: 1.7198\n",
            "Epoch: 3/5... Step: 820... Loss: 1.7087... Val Loss: 1.7126\n",
            "Epoch: 3/5... Step: 830... Loss: 1.6718... Val Loss: 1.7107\n",
            "Epoch: 4/5... Step: 840... Loss: 1.6943... Val Loss: 1.7020\n",
            "Epoch: 4/5... Step: 850... Loss: 1.6834... Val Loss: 1.7001\n",
            "Epoch: 4/5... Step: 860... Loss: 1.6968... Val Loss: 1.6905\n",
            "Epoch: 4/5... Step: 870... Loss: 1.6369... Val Loss: 1.6859\n",
            "Epoch: 4/5... Step: 880... Loss: 1.6554... Val Loss: 1.6840\n",
            "Epoch: 4/5... Step: 890... Loss: 1.6603... Val Loss: 1.6810\n",
            "Epoch: 4/5... Step: 900... Loss: 1.6879... Val Loss: 1.6791\n",
            "Epoch: 4/5... Step: 910... Loss: 1.6129... Val Loss: 1.6715\n",
            "Epoch: 4/5... Step: 920... Loss: 1.6637... Val Loss: 1.6665\n",
            "Epoch: 4/5... Step: 930... Loss: 1.6437... Val Loss: 1.6642\n",
            "Epoch: 4/5... Step: 940... Loss: 1.6257... Val Loss: 1.6642\n",
            "Epoch: 4/5... Step: 950... Loss: 1.5940... Val Loss: 1.6551\n",
            "Epoch: 4/5... Step: 960... Loss: 1.6900... Val Loss: 1.6512\n",
            "Epoch: 4/5... Step: 970... Loss: 1.6547... Val Loss: 1.6486\n",
            "Epoch: 4/5... Step: 980... Loss: 1.5822... Val Loss: 1.6429\n",
            "Epoch: 4/5... Step: 990... Loss: 1.5952... Val Loss: 1.6401\n",
            "Epoch: 4/5... Step: 1000... Loss: 1.5906... Val Loss: 1.6418\n",
            "Epoch: 4/5... Step: 1010... Loss: 1.6258... Val Loss: 1.6335\n",
            "Epoch: 4/5... Step: 1020... Loss: 1.6109... Val Loss: 1.6383\n",
            "Epoch: 4/5... Step: 1030... Loss: 1.6375... Val Loss: 1.6303\n",
            "Epoch: 4/5... Step: 1040... Loss: 1.6119... Val Loss: 1.6308\n",
            "Epoch: 4/5... Step: 1050... Loss: 1.6232... Val Loss: 1.6222\n",
            "Epoch: 4/5... Step: 1060... Loss: 1.6136... Val Loss: 1.6188\n",
            "Epoch: 4/5... Step: 1070... Loss: 1.5992... Val Loss: 1.6124\n",
            "Epoch: 4/5... Step: 1080... Loss: 1.6163... Val Loss: 1.6105\n",
            "Epoch: 4/5... Step: 1090... Loss: 1.5383... Val Loss: 1.6086\n",
            "Epoch: 4/5... Step: 1100... Loss: 1.5810... Val Loss: 1.6030\n",
            "Epoch: 4/5... Step: 1110... Loss: 1.5733... Val Loss: 1.6020\n",
            "Epoch: 5/5... Step: 1120... Loss: 1.5567... Val Loss: 1.6027\n",
            "Epoch: 5/5... Step: 1130... Loss: 1.5831... Val Loss: 1.6001\n",
            "Epoch: 5/5... Step: 1140... Loss: 1.5576... Val Loss: 1.5913\n",
            "Epoch: 5/5... Step: 1150... Loss: 1.5993... Val Loss: 1.5888\n",
            "Epoch: 5/5... Step: 1160... Loss: 1.5999... Val Loss: 1.5855\n",
            "Epoch: 5/5... Step: 1170... Loss: 1.5167... Val Loss: 1.5845\n",
            "Epoch: 5/5... Step: 1180... Loss: 1.5818... Val Loss: 1.5834\n",
            "Epoch: 5/5... Step: 1190... Loss: 1.5316... Val Loss: 1.5768\n",
            "Epoch: 5/5... Step: 1200... Loss: 1.5322... Val Loss: 1.5756\n",
            "Epoch: 5/5... Step: 1210... Loss: 1.5694... Val Loss: 1.5719\n",
            "Epoch: 5/5... Step: 1220... Loss: 1.5435... Val Loss: 1.5713\n",
            "Epoch: 5/5... Step: 1230... Loss: 1.5425... Val Loss: 1.5677\n",
            "Epoch: 5/5... Step: 1240... Loss: 1.5057... Val Loss: 1.5636\n",
            "Epoch: 5/5... Step: 1250... Loss: 1.5478... Val Loss: 1.5589\n",
            "Epoch: 5/5... Step: 1260... Loss: 1.5557... Val Loss: 1.5575\n",
            "Epoch: 5/5... Step: 1270... Loss: 1.5394... Val Loss: 1.5590\n",
            "Epoch: 5/5... Step: 1280... Loss: 1.5546... Val Loss: 1.5588\n",
            "Epoch: 5/5... Step: 1290... Loss: 1.5242... Val Loss: 1.5561\n",
            "Epoch: 5/5... Step: 1300... Loss: 1.5351... Val Loss: 1.5549\n",
            "Epoch: 5/5... Step: 1310... Loss: 1.4817... Val Loss: 1.5518\n",
            "Epoch: 5/5... Step: 1320... Loss: 1.5080... Val Loss: 1.5501\n",
            "Epoch: 5/5... Step: 1330... Loss: 1.5338... Val Loss: 1.5483\n",
            "Epoch: 5/5... Step: 1340... Loss: 1.5492... Val Loss: 1.5434\n",
            "Epoch: 5/5... Step: 1350... Loss: 1.5350... Val Loss: 1.5429\n",
            "Epoch: 5/5... Step: 1360... Loss: 1.5616... Val Loss: 1.5391\n",
            "Epoch: 5/5... Step: 1370... Loss: 1.4898... Val Loss: 1.5369\n",
            "Epoch: 5/5... Step: 1380... Loss: 1.5529... Val Loss: 1.5348\n",
            "Epoch: 5/5... Step: 1390... Loss: 1.5104... Val Loss: 1.5312\n"
          ]
        }
      ],
      "source": [
        "batch_size = 64\n",
        "seq_length = 100\n",
        "n_epochs = 5 # start small if you are just testing initial behavior\n",
        "\n",
        "# train the model\n",
        "train(net, encoded, epochs=n_epochs, batch_size=batch_size, seq_length=seq_length, lr=0.001, print_every=10)"
      ]
    },
    {
      "cell_type": "markdown",
      "metadata": {
        "id": "ZooFvSgqwEau"
      },
      "source": [
        "## Getting the best model\n",
        "\n",
        "To set your hyperparameters to get the best performance, you'll want to watch the training and validation losses. If your training loss is much lower than the validation loss, you're overfitting. Increase regularization (more dropout) or use a smaller network. If the training and validation losses are close, you're underfitting so you can increase the size of the network."
      ]
    },
    {
      "cell_type": "markdown",
      "metadata": {
        "id": "iME4ie37wEav"
      },
      "source": [
        "## Hyperparameters\n",
        "\n",
        "Here are the hyperparameters for the network.\n",
        "\n",
        "In defining the model:\n",
        "* `n_hidden` - The number of units in the hidden layers.\n",
        "* `n_layers` - Number of hidden LSTM layers to use.\n",
        "\n",
        "We assume that dropout probability and learning rate will be kept at the default, in this example.\n",
        "\n",
        "And in training:\n",
        "* `batch_size` - Number of sequences running through the network in one pass.\n",
        "* `seq_length` - Number of characters in the sequence the network is trained on. Larger is better typically, the network will learn more long range dependencies. But it takes longer to train. 100 is typically a good number here.\n",
        "* `lr` - Learning rate for training\n",
        "\n",
        "Here's some good advice from Andrej Karpathy on training the network. I'm going to copy it in here for your benefit, but also link to [where it originally came from](https://github.com/karpathy/char-rnn#tips-and-tricks).\n",
        "\n",
        "> ## Tips and Tricks\n",
        "\n",
        ">### Monitoring Validation Loss vs. Training Loss\n",
        ">If you're somewhat new to Machine Learning or Neural Networks it can take a bit of expertise to get good models. The most important quantity to keep track of is the difference between your training loss (printed during training) and the validation loss (printed once in a while when the RNN is run on the validation data (by default every 1000 iterations)). In particular:\n",
        "\n",
        "> - If your training loss is much lower than validation loss then this means the network might be **overfitting**. Solutions to this are to decrease your network size, or to increase dropout. For example you could try dropout of 0.5 and so on.\n",
        "> - If your training/validation loss are about equal then your model is **underfitting**. Increase the size of your model (either number of layers or the raw number of neurons per layer)\n",
        "\n",
        "> ### Approximate number of parameters\n",
        "\n",
        "> The two most important parameters that control the model are `n_hidden` and `n_layers`. I would advise that you always use `n_layers` of either 2/3. The `n_hidden` can be adjusted based on how much data you have. The two important quantities to keep track of here are:\n",
        "\n",
        "> - The number of parameters in your model. This is printed when you start training.\n",
        "> - The size of your dataset. 1MB file is approximately 1 million characters.\n",
        "\n",
        ">These two should be about the same order of magnitude. It's a little tricky to tell. Here are some examples:\n",
        "\n",
        "> - I have a 100MB dataset and I'm using the default parameter settings (which currently print 150K parameters). My data size is significantly larger (100 mil >> 0.15 mil), so I expect to heavily underfit. I am thinking I can comfortably afford to make `n_hidden` larger.\n",
        "> - I have a 10MB dataset and running a 10 million parameter model. I'm slightly nervous and I'm carefully monitoring my validation loss. If it's larger than my training loss then I may want to try to increase dropout a bit and see if that helps the validation loss.\n",
        "\n",
        "> ### Best models strategy\n",
        "\n",
        ">The winning strategy to obtaining very good models (if you have the compute time) is to always err on making the network larger (as large as you're willing to wait for it to compute) and then try different dropout values (between 0,1). Whatever model has the best validation performance (the loss, written in the checkpoint filename, low is good) is the one you should use in the end.\n",
        "\n",
        ">It is very common in deep learning to run many different models with many different hyperparameter settings, and in the end take whatever checkpoint gave the best validation performance.\n",
        "\n",
        ">By the way, the size of your training and validation splits are also parameters. Make sure you have a decent amount of data in your validation set or otherwise the validation performance will be noisy and not very informative."
      ]
    },
    {
      "cell_type": "markdown",
      "metadata": {
        "id": "sbuIpZfiwEax"
      },
      "source": [
        "## Checkpoint\n",
        "\n",
        "After training, we'll save the model so we can load it again later if we need too. Here I'm saving the parameters needed to create the same architecture, the hidden layer hyperparameters and the text characters."
      ]
    },
    {
      "cell_type": "code",
      "execution_count": null,
      "metadata": {
        "collapsed": true,
        "id": "U_wyX-xUwEax"
      },
      "outputs": [],
      "source": [
        "# change the name, for saving multiple files\n",
        "model_name = 'rnn_x_epoch.net'\n",
        "\n",
        "checkpoint = {'n_hidden': net.n_hidden,\n",
        "              'n_layers': net.n_layers,\n",
        "              'state_dict': net.state_dict(),\n",
        "              'tokens': net.chars}\n",
        "\n",
        "with open(model_name, 'wb') as f:\n",
        "    torch.save(checkpoint, f)"
      ]
    },
    {
      "cell_type": "markdown",
      "metadata": {
        "id": "oHcx2fm3wEay"
      },
      "source": [
        "---\n",
        "## Making Predictions\n",
        "\n",
        "Now that the model is trained, we'll want to sample from it and make predictions about next characters! To sample, we pass in a character and have the network predict the next character. Then we take that character, pass it back in, and get another predicted character. Just keep doing this and you'll generate a bunch of text!\n",
        "\n",
        "### A note on the `predict`  function\n",
        "\n",
        "The output of our RNN is from a fully-connected layer and it outputs a **distribution of next-character scores**.\n",
        "\n",
        "> To actually get the next character, we apply a softmax function, which gives us a *probability* distribution that we can then sample to predict the next character.\n",
        "\n",
        "### Top K sampling\n",
        "\n",
        "Our predictions come from a categorical probability distribution over all the possible characters. We can make the sample text and make it more reasonable to handle (with less variables) by only considering some $K$ most probable characters. This will prevent the network from giving us completely absurd characters while allowing it to introduce some noise and randomness into the sampled text. Read more about [topk, here](https://pytorch.org/docs/stable/torch.html#torch.topk).\n"
      ]
    },
    {
      "cell_type": "code",
      "execution_count": null,
      "metadata": {
        "collapsed": true,
        "id": "xod9YtQVwEaz"
      },
      "outputs": [],
      "source": [
        "def predict(net, char, h=None, top_k=None):\n",
        "        ''' Given a character, predict the next character.\n",
        "            Returns the predicted character and the hidden state.\n",
        "        '''\n",
        "\n",
        "        # tensor inputs\n",
        "        x = np.array([[net.char2int[char]]])\n",
        "        x = one_hot_encode(x, len(net.chars))\n",
        "        inputs = torch.from_numpy(x)\n",
        "\n",
        "        if(train_on_gpu):\n",
        "            inputs = inputs.cuda()\n",
        "\n",
        "        # detach hidden state from history\n",
        "        h = tuple([each.data for each in h])\n",
        "        # get the output of the model\n",
        "        out, h = net(inputs, h)\n",
        "\n",
        "        # get the character probabilities\n",
        "        p = F.softmax(out, dim=1).data\n",
        "        if(train_on_gpu):\n",
        "            p = p.cpu() # move to cpu\n",
        "\n",
        "        # get top characters\n",
        "        if top_k is None:\n",
        "            top_ch = np.arange(len(net.chars))\n",
        "        else:\n",
        "            p, top_ch = p.topk(top_k)\n",
        "            top_ch = top_ch.numpy().squeeze()\n",
        "\n",
        "        # select the likely next character with some element of randomness\n",
        "        p = p.numpy().squeeze()\n",
        "        char = np.random.choice(top_ch, p=p/p.sum())\n",
        "\n",
        "        # return the encoded value of the predicted char and the hidden state\n",
        "        return net.int2char[char], h"
      ]
    },
    {
      "cell_type": "markdown",
      "metadata": {
        "id": "AR0maREJwEa0"
      },
      "source": [
        "### Priming and generating text\n",
        "\n",
        "Typically you'll want to prime the network so you can build up a hidden state. Otherwise the network will start out generating characters at random. In general the first bunch of characters will be a little rough since it hasn't built up a long history of characters to predict from."
      ]
    },
    {
      "cell_type": "code",
      "execution_count": null,
      "metadata": {
        "collapsed": true,
        "id": "oqouYXPlwEa0"
      },
      "outputs": [],
      "source": [
        "def sample(net, size, prime='The', top_k=None):\n",
        "\n",
        "    if(train_on_gpu):\n",
        "        net.cuda()\n",
        "    else:\n",
        "        net.cpu()\n",
        "\n",
        "    net.eval() # eval mode\n",
        "\n",
        "    # First off, run through the prime characters\n",
        "    chars = [ch for ch in prime]\n",
        "    h = net.init_hidden(1)\n",
        "    for ch in prime:\n",
        "        char, h = predict(net, ch, h, top_k=top_k)\n",
        "\n",
        "    chars.append(char)\n",
        "\n",
        "    # Now pass in the previous character and get a new one\n",
        "    for ii in range(size):\n",
        "        char, h = predict(net, chars[-1], h, top_k=top_k)\n",
        "        chars.append(char)\n",
        "\n",
        "    return ''.join(chars)"
      ]
    },
    {
      "cell_type": "code",
      "execution_count": null,
      "metadata": {
        "colab": {
          "base_uri": "https://localhost:8080/"
        },
        "id": "mJ_gG6XWwEbD",
        "outputId": "b9dba85f-3cde-43cb-ab3e-9ec417389098"
      },
      "outputs": [
        {
          "output_type": "stream",
          "name": "stdout",
          "text": [
            "Anna it suck out at the mamier. The crach asterit and\n",
            "any of his frain and string, but see the same strang the\n",
            "considering\n",
            "where he can to be disparented.\n",
            "\n",
            "\"The cincliant too, the calle that the mind,\" he said, sinisity and sation with\n",
            "the simple, as she was not all the provante of this mans, and trid that he were boy that the mady with him so he was tarkning in the sich of him. But she could see the supplated to him of the princess and anyone on the send of the strow, and alto to the princes they was so a little actoman as the most the were out of the country and with the metting them\n",
            "or in the seme of\n",
            "sudden, the\n",
            "whice was a mary, husiding the shout of his bott, with him and had tellisted the prince working the same and to me,\n",
            "and anyther, and they took a serviet on her. But the married his head and she was all the stide and handing to so it. Stepan Arkadyeved had so sprongs that they see that it was the conversent the peatants she was a sight. Sore of\n",
            "the world, she was at him with her h\n"
          ]
        }
      ],
      "source": [
        "print(sample(net, 1000, prime='Anna', top_k=5))"
      ]
    },
    {
      "cell_type": "markdown",
      "metadata": {
        "id": "piKIXiunwEbE"
      },
      "source": [
        "## Loading a checkpoint"
      ]
    },
    {
      "cell_type": "code",
      "execution_count": null,
      "metadata": {
        "colab": {
          "base_uri": "https://localhost:8080/"
        },
        "id": "ppJ-AGVPwEbF",
        "outputId": "9414ceac-b532-4c13-f3d9-d19b9b14b9e0"
      },
      "outputs": [
        {
          "output_type": "stream",
          "name": "stderr",
          "text": [
            "<ipython-input-36-150cd3a0fa68>:3: FutureWarning: You are using `torch.load` with `weights_only=False` (the current default value), which uses the default pickle module implicitly. It is possible to construct malicious pickle data which will execute arbitrary code during unpickling (See https://github.com/pytorch/pytorch/blob/main/SECURITY.md#untrusted-models for more details). In a future release, the default value for `weights_only` will be flipped to `True`. This limits the functions that could be executed during unpickling. Arbitrary objects will no longer be allowed to be loaded via this mode unless they are explicitly allowlisted by the user via `torch.serialization.add_safe_globals`. We recommend you start setting `weights_only=True` for any use case where you don't have full control of the loaded file. Please open an issue on GitHub for any issues related to this experimental feature.\n",
            "  checkpoint = torch.load(f)\n"
          ]
        },
        {
          "output_type": "execute_result",
          "data": {
            "text/plain": [
              "<All keys matched successfully>"
            ]
          },
          "metadata": {},
          "execution_count": 36
        }
      ],
      "source": [
        "# Here we have loaded in a model that trained over 20 epochs `rnn_20_epoch.net`\n",
        "with open('rnn_x_epoch.net', 'rb') as f:\n",
        "    checkpoint = torch.load(f)\n",
        "\n",
        "loaded = CharRNN(checkpoint['tokens'], n_hidden=checkpoint['n_hidden'], n_layers=checkpoint['n_layers'])\n",
        "loaded.load_state_dict(checkpoint['state_dict'])"
      ]
    },
    {
      "cell_type": "code",
      "execution_count": null,
      "metadata": {
        "colab": {
          "base_uri": "https://localhost:8080/"
        },
        "id": "vTzlNyWvwEbG",
        "outputId": "144344b8-3584-4883-a075-241e01a4ed15"
      },
      "outputs": [
        {
          "output_type": "stream",
          "name": "stdout",
          "text": [
            "And Levin said to a langer and thoughn, and their precieted how steps and the\n",
            "mild wishout a montion. The she saw whether\n",
            "the same hem, he said.\n",
            "\n",
            "They with\n",
            "a sere comen, at the princess as the carriag was his face and still seemed to back of how with a sent of the chirg all she had said and his suck and, she could\n",
            "not hear him at its wife to this moment. A deating the chold hard and say into the same, at the peasants waited\n",
            "the commented, which she was and to the some were was\n",
            "nutseling the same, his child and her simply one of husband,\n",
            "said was so sine, but intently at one with the way to be door on the calther with his way into\n",
            "the most troung than he\n",
            "would have she would not seem the\n",
            "paintity to her thought, and the subler\n",
            "of the parting\n",
            "ovine, and he saw that him wores of the street of\n",
            "she husband to him as he she seemed her\n",
            "hig was the might at onge though to her\n",
            "sime and\n",
            "a statce. \"With my sers, and.\"\n",
            "\n",
            "His hand of his wife to be as she shall been\n",
            "to all that had never supported.\n",
            "\n",
            "\"I was to say is to him. The staintasion in a boint,\" said Levin; and that the child the man one way such a child of work.\n",
            "\n",
            "He with a leaving to be was she wineowidly at the mentance and trean and as he could the cart of the\n",
            "stad as he the way and stepped\n",
            "out of the was, with a must came, to the window, had been still about sore whisters, and was turning in once\n",
            "the whole that had the clater waiting him, and\n",
            "that he would be mished. But\n",
            "the suckess was this she was a part over,\n",
            "he would have herself was not sone when the\n",
            "subders women serient as\n",
            "the prince of the country sere to him ore, but he toward his brother of thim it some them through, and stretcide of a most\n",
            "persent, and ho wis in laughters. He had not a sell contrict of the same time would sat.\n",
            "\n",
            "\"You said that you will see you.\"\n",
            "\n",
            "\"No, true, it's alm that have been made a boudd. He shout tell the same tood out, and say if you saw them. Besty try into the must tigh in their since, in a sect of, and the propect with a\n",
            "chelire them.\"\n",
            "\n",
            "\"Yes, the\n"
          ]
        }
      ],
      "source": [
        "# Sample using a loaded model\n",
        "print(sample(loaded, 2000, top_k=5, prime=\"And Levin said\"))"
      ]
    },
    {
      "cell_type": "code",
      "execution_count": null,
      "metadata": {
        "collapsed": true,
        "id": "1if-W5pbwEbG"
      },
      "outputs": [],
      "source": []
    }
  ],
  "metadata": {
    "kernelspec": {
      "display_name": "Python 3 (ipykernel)",
      "language": "python",
      "name": "python3"
    },
    "language_info": {
      "codemirror_mode": {
        "name": "ipython",
        "version": 3
      },
      "file_extension": ".py",
      "mimetype": "text/x-python",
      "name": "python",
      "nbconvert_exporter": "python",
      "pygments_lexer": "ipython3",
      "version": "3.10.11"
    },
    "colab": {
      "provenance": []
    }
  },
  "nbformat": 4,
  "nbformat_minor": 0
}